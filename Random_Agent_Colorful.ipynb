{
 "cells": [
  {
   "cell_type": "code",
   "execution_count": 1,
   "id": "49762ba4",
   "metadata": {},
   "outputs": [
    {
     "name": "stdout",
     "output_type": "stream",
     "text": [
      "* \u001b[32mfinal\u001b[m\r\n",
      "  master\u001b[m\r\n"
     ]
    }
   ],
   "source": [
    "!git branch"
   ]
  },
  {
   "cell_type": "code",
   "execution_count": 11,
   "id": "12090403",
   "metadata": {},
   "outputs": [],
   "source": [
    "from quacks_env_colorful import *\n",
    "\n",
    "import numpy as np\n",
    "import tensorflow as tf\n",
    "import random\n",
    "\n",
    "from tf_agents.environments import tf_py_environment\n",
    "from tf_agents.policies import random_tf_policy\n",
    "\n",
    "from flaskr.util import *\n",
    "\n",
    "env = QuacksEnv()\n",
    "\n",
    "\n",
    "def splitter(obs):\n",
    "    return obs[\"observation\"], obs[\"legal_moves\"]\n",
    "\n",
    "example_environment = tf_py_environment.TFPyEnvironment(env)\n",
    "random_policy = random_tf_policy.RandomTFPolicy(example_environment.time_step_spec(), \n",
    "            example_environment.action_spec(), observation_and_action_constraint_splitter=splitter)\n",
    "\n",
    "\n"
   ]
  },
  {
   "cell_type": "code",
   "execution_count": 13,
   "id": "3434380f",
   "metadata": {},
   "outputs": [
    {
     "data": {
      "text/plain": [
       "{'state': {'turn_count': 9, 'state': 2},\n",
       " 'player_info': {'pot': [],\n",
       "  'drop_position': 2,\n",
       "  'current_position': 2,\n",
       "  'current_score': {'current_position': 2,\n",
       "   'cur_money': 3,\n",
       "   'cur_vp': 0,\n",
       "   'cur_ruby': False},\n",
       "  'money': 0,\n",
       "  'current_vp': 0,\n",
       "  'total_vp': 1,\n",
       "  'rubies': 1,\n",
       "  'exploded': False,\n",
       "  'bag': [['white', 3],\n",
       "   ['green', 1],\n",
       "   ['orange', 1],\n",
       "   ['white', 1],\n",
       "   ['white', 1],\n",
       "   ['white', 1],\n",
       "   ['white', 1],\n",
       "   ['white', 2],\n",
       "   ['white', 2],\n",
       "   ['orange', 1],\n",
       "   ['blue', 1],\n",
       "   ['orange', 1],\n",
       "   ['green', 1],\n",
       "   ['blue', 1]],\n",
       "  'bought': [],\n",
       "  'bought_': []}}"
      ]
     },
     "execution_count": 13,
     "metadata": {},
     "output_type": "execute_result"
    }
   ],
   "source": [
    "get_state()"
   ]
  },
  {
   "cell_type": "code",
   "execution_count": 12,
   "id": "5c5378fe",
   "metadata": {},
   "outputs": [
    {
     "name": "stdout",
     "output_type": "stream",
     "text": [
      "The autoreload extension is already loaded. To reload it, use:\n",
      "  %reload_ext autoreload\n"
     ]
    }
   ],
   "source": [
    "%load_ext autoreload\n",
    "%autoreload 2"
   ]
  },
  {
   "cell_type": "code",
   "execution_count": 14,
   "id": "a9f4467f",
   "metadata": {},
   "outputs": [],
   "source": [
    "from tqdm.notebook import tqdm"
   ]
  },
  {
   "cell_type": "code",
   "execution_count": 15,
   "id": "2919abf1",
   "metadata": {
    "scrolled": false
   },
   "outputs": [
    {
     "data": {
      "application/vnd.jupyter.widget-view+json": {
       "model_id": "0ed02a359bd14471aeaf85e70c002c37",
       "version_major": 2,
       "version_minor": 0
      },
      "text/plain": [
       "  0%|          | 0/1000 [00:00<?, ?it/s]"
      ]
     },
     "metadata": {},
     "output_type": "display_data"
    }
   ],
   "source": [
    "vps = []\n",
    "for i in tqdm(range(0, 1000)):\n",
    "    set_random_seed(i)\n",
    "    tf.random.set_seed(i)\n",
    "    time_step = example_environment.reset()\n",
    "    while not time_step.is_last():\n",
    "        action_step = random_policy.action(time_step)\n",
    "        #print(action_step)\n",
    "        time_step = example_environment.step(action_step)\n",
    "    vps.append(get_state()['player_info']['total_vp'])"
   ]
  },
  {
   "cell_type": "code",
   "execution_count": 16,
   "id": "f65ac0c0",
   "metadata": {},
   "outputs": [
    {
     "data": {
      "text/plain": [
       "1.312"
      ]
     },
     "execution_count": 16,
     "metadata": {},
     "output_type": "execute_result"
    }
   ],
   "source": [
    "np.average(vps)"
   ]
  },
  {
   "cell_type": "code",
   "execution_count": 9,
   "id": "2e4c9700",
   "metadata": {},
   "outputs": [],
   "source": [
    "import pickle"
   ]
  },
  {
   "cell_type": "code",
   "execution_count": 10,
   "id": "bdcc3c2c",
   "metadata": {},
   "outputs": [],
   "source": [
    "pickle.dump(vps, open('./random_colorful.pkl', 'wb'))"
   ]
  }
 ],
 "metadata": {
  "kernelspec": {
   "display_name": "Python 3 (ipykernel)",
   "language": "python",
   "name": "python3"
  },
  "language_info": {
   "codemirror_mode": {
    "name": "ipython",
    "version": 3
   },
   "file_extension": ".py",
   "mimetype": "text/x-python",
   "name": "python",
   "nbconvert_exporter": "python",
   "pygments_lexer": "ipython3",
   "version": "3.8.10"
  }
 },
 "nbformat": 4,
 "nbformat_minor": 5
}
