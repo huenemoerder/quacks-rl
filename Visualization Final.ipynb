{
 "cells": [
  {
   "cell_type": "code",
   "execution_count": 1,
   "id": "9d693cb4",
   "metadata": {},
   "outputs": [],
   "source": [
    "import pandas as pd\n",
    "import numpy as np\n",
    "import matplotlib.pyplot as plt\n",
    "from matplotlib import lines, markers"
   ]
  },
  {
   "cell_type": "code",
   "execution_count": 115,
   "id": "035985fd",
   "metadata": {},
   "outputs": [],
   "source": [
    "plt.rcParams['axes.grid'] = True\n",
    "plt.rcParams['axes.spines.top'] = False\n",
    "plt.rcParams['axes.spines.right'] = False\n",
    "plt.rcParams['axes.spines.bottom'] = False\n",
    "plt.rcParams['axes.spines.left'] = False\n",
    "plt.rcParams['figure.figsize'] = (14, 5)"
   ]
  },
  {
   "cell_type": "code",
   "execution_count": 3,
   "id": "ff7668a0",
   "metadata": {},
   "outputs": [],
   "source": [
    "import seaborn as sb"
   ]
  },
  {
   "cell_type": "code",
   "execution_count": 4,
   "id": "8ce7a122",
   "metadata": {},
   "outputs": [],
   "source": [
    "import pickle\n",
    "import numpy as np\n",
    "import pandas as pd"
   ]
  },
  {
   "cell_type": "code",
   "execution_count": 94,
   "id": "2950b3ff",
   "metadata": {},
   "outputs": [],
   "source": [
    "results = pd.DataFrame()"
   ]
  },
  {
   "cell_type": "code",
   "execution_count": 116,
   "id": "7624feac",
   "metadata": {},
   "outputs": [],
   "source": [
    "results['Random Agent'] = pickle.load(open('random_colorful.pkl', 'rb'))\n",
    "results['Explosive Agent'] = pickle.load(open('./results/simple_always_explode.pkl', 'rb'))\n",
    "results['Red Agent'] = pickle.load(open('./results/simple_red_03.pkl', 'rb'))\n",
    "results['Green Agent'] = pickle.load(open('./results/simple_green_03.pkl', 'rb'))\n",
    "results['Blue Agent'] = pickle.load(open('./results/simple_blue_03_v2.pkl', 'rb'))\n",
    "results['Yellow Agent'] = pickle.load(open('./results/simple_yellow_03.pkl', 'rb'))\n",
    "results['Purple Agent'] = pickle.load(open('./results/simple_purple_03.pkl', 'rb'))\n",
    "results['Expensive Agent'] = pickle.load(open('./results/simple_all_colors.pkl', 'rb'))\n",
    "results['DQN Agent'] = pickle.load(open('./results/dqn_last_final.pkl', 'rb'))\n",
    "results['DDQN Agent'] = pickle.load(open('./results/ddqn_last_final.pkl', 'rb'))"
   ]
  },
  {
   "cell_type": "code",
   "execution_count": 107,
   "id": "829df9cb",
   "metadata": {},
   "outputs": [
    {
     "data": {
      "text/html": [
       "<div>\n",
       "<style scoped>\n",
       "    .dataframe tbody tr th:only-of-type {\n",
       "        vertical-align: middle;\n",
       "    }\n",
       "\n",
       "    .dataframe tbody tr th {\n",
       "        vertical-align: top;\n",
       "    }\n",
       "\n",
       "    .dataframe thead th {\n",
       "        text-align: right;\n",
       "    }\n",
       "</style>\n",
       "<table border=\"1\" class=\"dataframe\">\n",
       "  <thead>\n",
       "    <tr style=\"text-align: right;\">\n",
       "      <th></th>\n",
       "      <th>Random Agent</th>\n",
       "      <th>Explosive Agent</th>\n",
       "      <th>Red Agent</th>\n",
       "      <th>Green Agent</th>\n",
       "      <th>Blue Agent</th>\n",
       "      <th>Yellow Agent</th>\n",
       "      <th>Purple Agent</th>\n",
       "      <th>Expensive Agent</th>\n",
       "      <th>DQN Agent</th>\n",
       "      <th>DDQN Agent</th>\n",
       "    </tr>\n",
       "  </thead>\n",
       "  <tbody>\n",
       "    <tr>\n",
       "      <th>0</th>\n",
       "      <td>1</td>\n",
       "      <td>19</td>\n",
       "      <td>27</td>\n",
       "      <td>30</td>\n",
       "      <td>31</td>\n",
       "      <td>29</td>\n",
       "      <td>41</td>\n",
       "      <td>30</td>\n",
       "      <td>38</td>\n",
       "      <td>37</td>\n",
       "    </tr>\n",
       "    <tr>\n",
       "      <th>1</th>\n",
       "      <td>1</td>\n",
       "      <td>19</td>\n",
       "      <td>16</td>\n",
       "      <td>14</td>\n",
       "      <td>14</td>\n",
       "      <td>20</td>\n",
       "      <td>43</td>\n",
       "      <td>22</td>\n",
       "      <td>43</td>\n",
       "      <td>23</td>\n",
       "    </tr>\n",
       "    <tr>\n",
       "      <th>2</th>\n",
       "      <td>0</td>\n",
       "      <td>20</td>\n",
       "      <td>30</td>\n",
       "      <td>41</td>\n",
       "      <td>42</td>\n",
       "      <td>47</td>\n",
       "      <td>38</td>\n",
       "      <td>31</td>\n",
       "      <td>62</td>\n",
       "      <td>48</td>\n",
       "    </tr>\n",
       "    <tr>\n",
       "      <th>3</th>\n",
       "      <td>0</td>\n",
       "      <td>18</td>\n",
       "      <td>33</td>\n",
       "      <td>23</td>\n",
       "      <td>24</td>\n",
       "      <td>45</td>\n",
       "      <td>40</td>\n",
       "      <td>27</td>\n",
       "      <td>31</td>\n",
       "      <td>37</td>\n",
       "    </tr>\n",
       "    <tr>\n",
       "      <th>4</th>\n",
       "      <td>2</td>\n",
       "      <td>19</td>\n",
       "      <td>28</td>\n",
       "      <td>30</td>\n",
       "      <td>30</td>\n",
       "      <td>28</td>\n",
       "      <td>32</td>\n",
       "      <td>40</td>\n",
       "      <td>46</td>\n",
       "      <td>46</td>\n",
       "    </tr>\n",
       "    <tr>\n",
       "      <th>...</th>\n",
       "      <td>...</td>\n",
       "      <td>...</td>\n",
       "      <td>...</td>\n",
       "      <td>...</td>\n",
       "      <td>...</td>\n",
       "      <td>...</td>\n",
       "      <td>...</td>\n",
       "      <td>...</td>\n",
       "      <td>...</td>\n",
       "      <td>...</td>\n",
       "    </tr>\n",
       "    <tr>\n",
       "      <th>995</th>\n",
       "      <td>0</td>\n",
       "      <td>19</td>\n",
       "      <td>33</td>\n",
       "      <td>38</td>\n",
       "      <td>28</td>\n",
       "      <td>29</td>\n",
       "      <td>30</td>\n",
       "      <td>26</td>\n",
       "      <td>42</td>\n",
       "      <td>45</td>\n",
       "    </tr>\n",
       "    <tr>\n",
       "      <th>996</th>\n",
       "      <td>1</td>\n",
       "      <td>19</td>\n",
       "      <td>30</td>\n",
       "      <td>29</td>\n",
       "      <td>30</td>\n",
       "      <td>24</td>\n",
       "      <td>36</td>\n",
       "      <td>32</td>\n",
       "      <td>41</td>\n",
       "      <td>26</td>\n",
       "    </tr>\n",
       "    <tr>\n",
       "      <th>997</th>\n",
       "      <td>0</td>\n",
       "      <td>19</td>\n",
       "      <td>23</td>\n",
       "      <td>24</td>\n",
       "      <td>24</td>\n",
       "      <td>28</td>\n",
       "      <td>27</td>\n",
       "      <td>24</td>\n",
       "      <td>36</td>\n",
       "      <td>49</td>\n",
       "    </tr>\n",
       "    <tr>\n",
       "      <th>998</th>\n",
       "      <td>2</td>\n",
       "      <td>18</td>\n",
       "      <td>30</td>\n",
       "      <td>37</td>\n",
       "      <td>38</td>\n",
       "      <td>35</td>\n",
       "      <td>32</td>\n",
       "      <td>26</td>\n",
       "      <td>57</td>\n",
       "      <td>49</td>\n",
       "    </tr>\n",
       "    <tr>\n",
       "      <th>999</th>\n",
       "      <td>1</td>\n",
       "      <td>19</td>\n",
       "      <td>29</td>\n",
       "      <td>41</td>\n",
       "      <td>43</td>\n",
       "      <td>22</td>\n",
       "      <td>29</td>\n",
       "      <td>23</td>\n",
       "      <td>27</td>\n",
       "      <td>27</td>\n",
       "    </tr>\n",
       "  </tbody>\n",
       "</table>\n",
       "<p>1000 rows × 10 columns</p>\n",
       "</div>"
      ],
      "text/plain": [
       "     Random Agent  Explosive Agent  Red Agent  Green Agent  Blue Agent  \\\n",
       "0               1               19         27           30          31   \n",
       "1               1               19         16           14          14   \n",
       "2               0               20         30           41          42   \n",
       "3               0               18         33           23          24   \n",
       "4               2               19         28           30          30   \n",
       "..            ...              ...        ...          ...         ...   \n",
       "995             0               19         33           38          28   \n",
       "996             1               19         30           29          30   \n",
       "997             0               19         23           24          24   \n",
       "998             2               18         30           37          38   \n",
       "999             1               19         29           41          43   \n",
       "\n",
       "     Yellow Agent  Purple Agent  Expensive Agent  DQN Agent  DDQN Agent  \n",
       "0              29            41               30         38          37  \n",
       "1              20            43               22         43          23  \n",
       "2              47            38               31         62          48  \n",
       "3              45            40               27         31          37  \n",
       "4              28            32               40         46          46  \n",
       "..            ...           ...              ...        ...         ...  \n",
       "995            29            30               26         42          45  \n",
       "996            24            36               32         41          26  \n",
       "997            28            27               24         36          49  \n",
       "998            35            32               26         57          49  \n",
       "999            22            29               23         27          27  \n",
       "\n",
       "[1000 rows x 10 columns]"
      ]
     },
     "execution_count": 107,
     "metadata": {},
     "output_type": "execute_result"
    }
   ],
   "source": [
    "results"
   ]
  },
  {
   "cell_type": "code",
   "execution_count": 117,
   "id": "36e3bff5",
   "metadata": {
    "scrolled": true
   },
   "outputs": [
    {
     "data": {
      "text/plain": [
       "[Text(0, 0.5, 'VP')]"
      ]
     },
     "execution_count": 117,
     "metadata": {},
     "output_type": "execute_result"
    },
    {
     "data": {
      "image/png": "[encoded data removed]",
      "text/plain": [
       "<Figure size 1008x360 with 1 Axes>"
      ]
     },
     "metadata": {
      "needs_background": "light"
     },
     "output_type": "display_data"
    }
   ],
   "source": [
    "ax = sb.violinplot(data=results, \n",
    "                   palette=['gray', 'gray', 'red', 'lime', 'blue', 'yellow', 'magenta', 'lime', 'orange', 'cyan'],\n",
    "                   scale='width',\n",
    "                   inner='box',\n",
    "                   orient='v',\n",
    "                   saturation=0.7,\n",
    "                   linewidth=2,\n",
    "                   sharey=True\n",
    "                  )\n",
    "ax.set(ylabel='VP')"
   ]
  },
  {
   "cell_type": "code",
   "execution_count": 118,
   "id": "873e2ece",
   "metadata": {},
   "outputs": [],
   "source": [
    "ax.get_figure().savefig('quacks_result_final.png', dpi=300)\n"
   ]
  },
  {
   "cell_type": "code",
   "execution_count": null,
   "id": "c3ff6a35",
   "metadata": {},
   "outputs": [],
   "source": []
  },
  {
   "cell_type": "code",
   "execution_count": 94,
   "id": "4627b7eb",
   "metadata": {},
   "outputs": [
    {
     "ename": "AttributeError",
     "evalue": "module 'pandas' has no attribute 'max'",
     "output_type": "error",
     "traceback": [
      "\u001b[0;31m---------------------------------------------------------------------------\u001b[0m",
      "\u001b[0;31mAttributeError\u001b[0m                            Traceback (most recent call last)",
      "\u001b[0;32m/tmp/ipykernel_3404344/3510182660.py\u001b[0m in \u001b[0;36m<module>\u001b[0;34m\u001b[0m\n\u001b[1;32m      1\u001b[0m \u001b[0;32mfor\u001b[0m \u001b[0mgame\u001b[0m \u001b[0;32min\u001b[0m \u001b[0mresults\u001b[0m\u001b[0;34m.\u001b[0m\u001b[0miterrows\u001b[0m\u001b[0;34m(\u001b[0m\u001b[0;34m)\u001b[0m\u001b[0;34m:\u001b[0m\u001b[0;34m\u001b[0m\u001b[0;34m\u001b[0m\u001b[0m\n\u001b[0;32m----> 2\u001b[0;31m     \u001b[0mprint\u001b[0m\u001b[0;34m(\u001b[0m\u001b[0mpd\u001b[0m\u001b[0;34m.\u001b[0m\u001b[0mmax\u001b[0m\u001b[0;34m(\u001b[0m\u001b[0mgame\u001b[0m\u001b[0;34m)\u001b[0m\u001b[0;34m)\u001b[0m\u001b[0;34m\u001b[0m\u001b[0;34m\u001b[0m\u001b[0m\n\u001b[0m",
      "\u001b[0;32m~/.local/lib/python3.8/site-packages/pandas/__init__.py\u001b[0m in \u001b[0;36m__getattr__\u001b[0;34m(name)\u001b[0m\n\u001b[1;32m    259\u001b[0m         \u001b[0;32mreturn\u001b[0m \u001b[0m_SparseArray\u001b[0m\u001b[0;34m\u001b[0m\u001b[0;34m\u001b[0m\u001b[0m\n\u001b[1;32m    260\u001b[0m \u001b[0;34m\u001b[0m\u001b[0m\n\u001b[0;32m--> 261\u001b[0;31m     \u001b[0;32mraise\u001b[0m \u001b[0mAttributeError\u001b[0m\u001b[0;34m(\u001b[0m\u001b[0;34mf\"module 'pandas' has no attribute '{name}'\"\u001b[0m\u001b[0;34m)\u001b[0m\u001b[0;34m\u001b[0m\u001b[0;34m\u001b[0m\u001b[0m\n\u001b[0m\u001b[1;32m    262\u001b[0m \u001b[0;34m\u001b[0m\u001b[0m\n\u001b[1;32m    263\u001b[0m \u001b[0;34m\u001b[0m\u001b[0m\n",
      "\u001b[0;31mAttributeError\u001b[0m: module 'pandas' has no attribute 'max'"
     ]
    }
   ],
   "source": [
    "for game in results.iterrows():\n",
    "    print(pd.max(game))"
   ]
  },
  {
   "cell_type": "code",
   "execution_count": 31,
   "id": "10869867",
   "metadata": {},
   "outputs": [
    {
     "data": {
      "text/plain": [
       "Random Agent         6\n",
       "Explosive Agent    190\n",
       "Red Agent          273\n",
       "Green Agent         65\n",
       "Blue Agent          65\n",
       "Yellow Agent        92\n",
       "Purple Agent       517\n",
       "Expensive Agent    965\n",
       "DQN Agent          651\n",
       "DDQN Agent         881\n",
       "dtype: int64"
      ]
     },
     "execution_count": 31,
     "metadata": {},
     "output_type": "execute_result"
    }
   ],
   "source": [
    "results.idxmax()"
   ]
  },
  {
   "cell_type": "code",
   "execution_count": 50,
   "id": "1ff7a926",
   "metadata": {},
   "outputs": [
    {
     "data": {
      "text/plain": [
       "DQN Agent    40.871\n",
       "dtype: float64"
      ]
     },
     "execution_count": 50,
     "metadata": {},
     "output_type": "execute_result"
    }
   ],
   "source": [
    "results[['DQN Agent']].mean()"
   ]
  },
  {
   "cell_type": "code",
   "execution_count": 51,
   "id": "47c5f5f2",
   "metadata": {},
   "outputs": [
    {
     "data": {
      "text/plain": [
       "DDQN Agent    40.743\n",
       "dtype: float64"
      ]
     },
     "execution_count": 51,
     "metadata": {},
     "output_type": "execute_result"
    }
   ],
   "source": [
    "results[['DDQN Agent']].mean()"
   ]
  },
  {
   "cell_type": "code",
   "execution_count": 49,
   "id": "34602e55",
   "metadata": {},
   "outputs": [
    {
     "data": {
      "text/plain": [
       "DQN Agent     0.546\n",
       "DDQN Agent    0.454\n",
       "dtype: float64"
      ]
     },
     "execution_count": 49,
     "metadata": {},
     "output_type": "execute_result"
    }
   ],
   "source": [
    "results[['DQN Agent', 'DDQN Agent']].idxmax(axis=1).value_counts() / results.shape[0]"
   ]
  },
  {
   "cell_type": "code",
   "execution_count": 38,
   "id": "b2cba575",
   "metadata": {},
   "outputs": [
    {
     "data": {
      "text/plain": [
       "DQN Agent          0.723\n",
       "Blue Agent         0.065\n",
       "Yellow Agent       0.062\n",
       "Red Agent          0.054\n",
       "Purple Agent       0.047\n",
       "Expensive Agent    0.036\n",
       "Green Agent        0.013\n",
       "dtype: float64"
      ]
     },
     "execution_count": 38,
     "metadata": {},
     "output_type": "execute_result"
    }
   ],
   "source": [
    "results[['DQN Agent', 'Red Agent', 'Green Agent', 'Blue Agent', 'Yellow Agent', 'Purple Agent', 'Expensive Agent']].idxmax(axis=1).value_counts() / results.shape[0]"
   ]
  },
  {
   "cell_type": "code",
   "execution_count": 39,
   "id": "c719d586",
   "metadata": {},
   "outputs": [
    {
     "data": {
      "text/plain": [
       "DDQN Agent         0.717\n",
       "Yellow Agent       0.061\n",
       "Expensive Agent    0.059\n",
       "Blue Agent         0.052\n",
       "Red Agent          0.052\n",
       "Purple Agent       0.044\n",
       "Green Agent        0.015\n",
       "dtype: float64"
      ]
     },
     "execution_count": 39,
     "metadata": {},
     "output_type": "execute_result"
    }
   ],
   "source": [
    "results[['DDQN Agent', 'Red Agent', 'Green Agent', 'Blue Agent', 'Yellow Agent', 'Purple Agent', 'Expensive Agent']].idxmax(axis=1).value_counts() / results.shape[0]"
   ]
  },
  {
   "cell_type": "code",
   "execution_count": 9,
   "id": "0e638642",
   "metadata": {},
   "outputs": [],
   "source": [
    "returns = {\n",
    "    'DQN' : pickle.load(open('results/dqn_colorful_returns_last_final_final.pkl', 'rb')),\n",
    "    'DDQN' : pickle.load(open('results/ddqn_colorful_returns_last_final.pkl', 'rb'))\n",
    "}"
   ]
  },
  {
   "cell_type": "code",
   "execution_count": 39,
   "id": "00b29670",
   "metadata": {},
   "outputs": [
    {
     "data": {
      "text/plain": [
       "30.629833333333334"
      ]
     },
     "execution_count": 39,
     "metadata": {},
     "output_type": "execute_result"
    }
   ],
   "source": [
    "import numpy as np\n",
    "heuristic_means = [results[['Red Agent']].mean()[0], results[['Green Agent']].mean()[0], \n",
    "                   results[['Blue Agent']].mean()[0], results[['Yellow Agent']].mean()[0], \n",
    "                   results[['Purple Agent']].mean()[0], results[['Expensive Agent']].mean()[0]]\n",
    "np.mean(heuristic_means)"
   ]
  },
  {
   "cell_type": "code",
   "execution_count": 68,
   "id": "ea59faa0",
   "metadata": {},
   "outputs": [
    {
     "data": {
      "text/html": [
       "<div>\n",
       "<style scoped>\n",
       "    .dataframe tbody tr th:only-of-type {\n",
       "        vertical-align: middle;\n",
       "    }\n",
       "\n",
       "    .dataframe tbody tr th {\n",
       "        vertical-align: top;\n",
       "    }\n",
       "\n",
       "    .dataframe thead th {\n",
       "        text-align: right;\n",
       "    }\n",
       "</style>\n",
       "<table border=\"1\" class=\"dataframe\">\n",
       "  <thead>\n",
       "    <tr style=\"text-align: right;\">\n",
       "      <th></th>\n",
       "      <th>DQN Agent</th>\n",
       "    </tr>\n",
       "  </thead>\n",
       "  <tbody>\n",
       "    <tr>\n",
       "      <th>0</th>\n",
       "      <td>38</td>\n",
       "    </tr>\n",
       "    <tr>\n",
       "      <th>1</th>\n",
       "      <td>43</td>\n",
       "    </tr>\n",
       "    <tr>\n",
       "      <th>2</th>\n",
       "      <td>62</td>\n",
       "    </tr>\n",
       "    <tr>\n",
       "      <th>3</th>\n",
       "      <td>31</td>\n",
       "    </tr>\n",
       "    <tr>\n",
       "      <th>4</th>\n",
       "      <td>46</td>\n",
       "    </tr>\n",
       "    <tr>\n",
       "      <th>...</th>\n",
       "      <td>...</td>\n",
       "    </tr>\n",
       "    <tr>\n",
       "      <th>995</th>\n",
       "      <td>42</td>\n",
       "    </tr>\n",
       "    <tr>\n",
       "      <th>996</th>\n",
       "      <td>41</td>\n",
       "    </tr>\n",
       "    <tr>\n",
       "      <th>997</th>\n",
       "      <td>36</td>\n",
       "    </tr>\n",
       "    <tr>\n",
       "      <th>998</th>\n",
       "      <td>57</td>\n",
       "    </tr>\n",
       "    <tr>\n",
       "      <th>999</th>\n",
       "      <td>27</td>\n",
       "    </tr>\n",
       "  </tbody>\n",
       "</table>\n",
       "<p>1000 rows × 1 columns</p>\n",
       "</div>"
      ],
      "text/plain": [
       "     DQN Agent\n",
       "0           38\n",
       "1           43\n",
       "2           62\n",
       "3           31\n",
       "4           46\n",
       "..         ...\n",
       "995         42\n",
       "996         41\n",
       "997         36\n",
       "998         57\n",
       "999         27\n",
       "\n",
       "[1000 rows x 1 columns]"
      ]
     },
     "execution_count": 68,
     "metadata": {},
     "output_type": "execute_result"
    }
   ],
   "source": [
    "results[['DQN Agent']]"
   ]
  },
  {
   "cell_type": "code",
   "execution_count": 112,
   "id": "96889e7d",
   "metadata": {},
   "outputs": [
    {
     "data": {
      "text/plain": [
       "<matplotlib.legend.Legend at 0x7f49bcefb820>"
      ]
     },
     "execution_count": 112,
     "metadata": {},
     "output_type": "execute_result"
    },
    {
     "data": {
      "image/png": "[encoded data removed]",
      "text/plain": [
       "<Figure size 504x360 with 1 Axes>"
      ]
     },
     "metadata": {
      "needs_background": "light"
     },
     "output_type": "display_data"
    }
   ],
   "source": [
    "fig = pd.DataFrame(returns).plot()\n",
    "fig.axhline(y=results[['Random Agent']].mean()[0], color='gray', linestyle=':', label='Random')\n",
    "fig.axhline(y=results[['Explosive Agent']].mean()[0], color='black', linestyle='--', label='Explosive')\n",
    "#fig.axhline(y=results[['Expensive Agent']].mean()[0], color='magenta', linestyle='-.', label='Expensive Agent')\n",
    "fig.axhline(y=np.mean(heuristic_means), color='magenta', linestyle='-.', label='Mean Heuristics')\n",
    "fig.plot(389, returns['DQN'][388], color='red', marker='o', label='DQN Checkpoint')\n",
    "fig.plot(134, returns['DDQN'][133], color='red', marker='s', label='DDQN Checkpoint')\n",
    "\n",
    "fig.legend()"
   ]
  },
  {
   "cell_type": "code",
   "execution_count": 114,
   "id": "7f5eea1f",
   "metadata": {},
   "outputs": [],
   "source": [
    "fig.get_figure().savefig('quacks_returns_final.png', dpi=300)\n"
   ]
  }
 ],
 "metadata": {
  "kernelspec": {
   "display_name": "Python 3 (ipykernel)",
   "language": "python",
   "name": "python3"
  },
  "language_info": {
   "codemirror_mode": {
    "name": "ipython",
    "version": 3
   },
   "file_extension": ".py",
   "mimetype": "text/x-python",
   "name": "python",
   "nbconvert_exporter": "python",
   "pygments_lexer": "ipython3",
   "version": "3.8.10"
  }
 },
 "nbformat": 4,
 "nbformat_minor": 5
}
